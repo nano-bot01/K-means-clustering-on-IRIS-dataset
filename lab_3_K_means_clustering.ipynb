{
 "cells": [
  {
   "cell_type": "code",
   "execution_count": 1,
   "metadata": {},
   "outputs": [],
   "source": [
    "import numpy as np\n",
    "import pandas as pd\n",
    "import matplotlib.pyplot as plt\n",
    "from sklearn.cluster import KMeans"
   ]
  },
  {
   "cell_type": "code",
   "execution_count": 2,
   "metadata": {},
   "outputs": [
    {
     "data": {
      "text/plain": [
       "[4, 5, 10, 4, 10, 8, 3, 2, 7, 3]"
      ]
     },
     "execution_count": 2,
     "metadata": {},
     "output_type": "execute_result"
    }
   ],
   "source": [
    "x = [4,5,10,4, 10, 8, 3, 2, 7, 3]\n",
    "y = [23, 27, 22, 30, 21, 23, 27, 29, 30, 25]\n",
    "\n",
    "x"
   ]
  },
  {
   "cell_type": "code",
   "execution_count": 3,
   "metadata": {},
   "outputs": [
    {
     "data": {
      "text/plain": [
       "[23, 27, 22, 30, 21, 23, 27, 29, 30, 25]"
      ]
     },
     "execution_count": 3,
     "metadata": {},
     "output_type": "execute_result"
    }
   ],
   "source": [
    "y"
   ]
  },
  {
   "cell_type": "code",
   "execution_count": 4,
   "metadata": {},
   "outputs": [
    {
     "data": {
      "text/plain": [
       "[(4, 23),\n",
       " (5, 27),\n",
       " (10, 22),\n",
       " (4, 30),\n",
       " (10, 21),\n",
       " (8, 23),\n",
       " (3, 27),\n",
       " (2, 29),\n",
       " (7, 30),\n",
       " (3, 25)]"
      ]
     },
     "execution_count": 4,
     "metadata": {},
     "output_type": "execute_result"
    }
   ],
   "source": [
    "data = list(zip(x,y))\n",
    "data"
   ]
  },
  {
   "cell_type": "code",
   "execution_count": 10,
   "metadata": {},
   "outputs": [],
   "source": [
    "model = KMeans(n_clusters = 3)\n"
   ]
  },
  {
   "cell_type": "code",
   "execution_count": 11,
   "metadata": {},
   "outputs": [
    {
     "data": {
      "text/plain": [
       "KMeans(algorithm='auto', copy_x=True, init='k-means++', max_iter=300,\n",
       "    n_clusters=3, n_init=10, n_jobs=None, precompute_distances='auto',\n",
       "    random_state=None, tol=0.0001, verbose=0)"
      ]
     },
     "execution_count": 11,
     "metadata": {},
     "output_type": "execute_result"
    }
   ],
   "source": [
    "model.fit(data)"
   ]
  },
  {
   "cell_type": "code",
   "execution_count": 21,
   "metadata": {},
   "outputs": [
    {
     "data": {
      "image/png": "[encoded data removed]",
      "text/plain": [
       "<Figure size 1152x648 with 1 Axes>"
      ]
     },
     "metadata": {
      "needs_background": "light"
     },
     "output_type": "display_data"
    }
   ],
   "source": [
    "plt.figure(figsize=(16,9))\n",
    "plt.scatter(x,y, c= model.labels_, marker= \"*\", s = 300)\n",
    "plt.xlabel(\"X label\", fontsize = 12)\n",
    "plt.ylabel(\"Y label\", fontsize = 12)\n",
    "plt.title(\"K Means cluster\", fontsize = 16)\n",
    "\n",
    "plt.show()"
   ]
  },
  {
   "cell_type": "markdown",
   "metadata": {},
   "source": [
    "## Another K-Means clustering"
   ]
  },
  {
   "cell_type": "code",
   "execution_count": 22,
   "metadata": {},
   "outputs": [],
   "source": [
    "dataset = pd.read_csv(\"C://Users//DITU//Documents//Jupyter//iris_dataset.csv\")"
   ]
  },
  {
   "cell_type": "code",
   "execution_count": 23,
   "metadata": {},
   "outputs": [
    {
     "data": {
      "text/html": [
       "<div>\n",
       "<style scoped>\n",
       "    .dataframe tbody tr th:only-of-type {\n",
       "        vertical-align: middle;\n",
       "    }\n",
       "\n",
       "    .dataframe tbody tr th {\n",
       "        vertical-align: top;\n",
       "    }\n",
       "\n",
       "    .dataframe thead th {\n",
       "        text-align: right;\n",
       "    }\n",
       "</style>\n",
       "<table border=\"1\" class=\"dataframe\">\n",
       "  <thead>\n",
       "    <tr style=\"text-align: right;\">\n",
       "      <th></th>\n",
       "      <th>sepal length (cm)</th>\n",
       "      <th>sepal width (cm)</th>\n",
       "      <th>petal length (cm)</th>\n",
       "      <th>petal width (cm)</th>\n",
       "      <th>target</th>\n",
       "    </tr>\n",
       "  </thead>\n",
       "  <tbody>\n",
       "    <tr>\n",
       "      <th>0</th>\n",
       "      <td>5.1</td>\n",
       "      <td>3.5</td>\n",
       "      <td>1.4</td>\n",
       "      <td>0.2</td>\n",
       "      <td>Iris-setosa</td>\n",
       "    </tr>\n",
       "    <tr>\n",
       "      <th>1</th>\n",
       "      <td>4.9</td>\n",
       "      <td>3.0</td>\n",
       "      <td>1.4</td>\n",
       "      <td>0.2</td>\n",
       "      <td>Iris-setosa</td>\n",
       "    </tr>\n",
       "    <tr>\n",
       "      <th>2</th>\n",
       "      <td>4.7</td>\n",
       "      <td>3.2</td>\n",
       "      <td>1.3</td>\n",
       "      <td>0.2</td>\n",
       "      <td>Iris-setosa</td>\n",
       "    </tr>\n",
       "    <tr>\n",
       "      <th>3</th>\n",
       "      <td>4.6</td>\n",
       "      <td>3.1</td>\n",
       "      <td>1.5</td>\n",
       "      <td>0.2</td>\n",
       "      <td>Iris-setosa</td>\n",
       "    </tr>\n",
       "    <tr>\n",
       "      <th>4</th>\n",
       "      <td>5.0</td>\n",
       "      <td>3.6</td>\n",
       "      <td>1.4</td>\n",
       "      <td>0.2</td>\n",
       "      <td>Iris-setosa</td>\n",
       "    </tr>\n",
       "  </tbody>\n",
       "</table>\n",
       "</div>"
      ],
      "text/plain": [
       "   sepal length (cm)  sepal width (cm)  petal length (cm)  petal width (cm)  \\\n",
       "0                5.1               3.5                1.4               0.2   \n",
       "1                4.9               3.0                1.4               0.2   \n",
       "2                4.7               3.2                1.3               0.2   \n",
       "3                4.6               3.1                1.5               0.2   \n",
       "4                5.0               3.6                1.4               0.2   \n",
       "\n",
       "        target  \n",
       "0  Iris-setosa  \n",
       "1  Iris-setosa  \n",
       "2  Iris-setosa  \n",
       "3  Iris-setosa  \n",
       "4  Iris-setosa  "
      ]
     },
     "execution_count": 23,
     "metadata": {},
     "output_type": "execute_result"
    }
   ],
   "source": [
    "dataset.head()"
   ]
  },
  {
   "cell_type": "code",
   "execution_count": 30,
   "metadata": {},
   "outputs": [
    {
     "data": {
      "text/plain": [
       "0      5.1\n",
       "1      4.9\n",
       "2      4.7\n",
       "3      4.6\n",
       "4      5.0\n",
       "5      5.4\n",
       "6      4.6\n",
       "7      5.0\n",
       "8      4.4\n",
       "9      4.9\n",
       "10     5.4\n",
       "11     4.8\n",
       "12     4.8\n",
       "13     4.3\n",
       "14     5.8\n",
       "15     5.7\n",
       "16     5.4\n",
       "17     5.1\n",
       "18     5.7\n",
       "19     5.1\n",
       "20     5.4\n",
       "21     5.1\n",
       "22     4.6\n",
       "23     5.1\n",
       "24     4.8\n",
       "25     5.0\n",
       "26     5.0\n",
       "27     5.2\n",
       "28     5.2\n",
       "29     4.7\n",
       "      ... \n",
       "120    6.9\n",
       "121    5.6\n",
       "122    7.7\n",
       "123    6.3\n",
       "124    6.7\n",
       "125    7.2\n",
       "126    6.2\n",
       "127    6.1\n",
       "128    6.4\n",
       "129    7.2\n",
       "130    7.4\n",
       "131    7.9\n",
       "132    6.4\n",
       "133    6.3\n",
       "134    6.1\n",
       "135    7.7\n",
       "136    6.3\n",
       "137    6.4\n",
       "138    6.0\n",
       "139    6.9\n",
       "140    6.7\n",
       "141    6.9\n",
       "142    5.8\n",
       "143    6.8\n",
       "144    6.7\n",
       "145    6.7\n",
       "146    6.3\n",
       "147    6.5\n",
       "148    6.2\n",
       "149    5.9\n",
       "Name: sepal length (cm), Length: 150, dtype: float64"
      ]
     },
     "execution_count": 30,
     "metadata": {},
     "output_type": "execute_result"
    }
   ],
   "source": [
    "X = dataset[\"sepal length (cm)\"]\n",
    "X"
   ]
  },
  {
   "cell_type": "code",
   "execution_count": 31,
   "metadata": {},
   "outputs": [
    {
     "data": {
      "text/plain": [
       "0      3.5\n",
       "1      3.0\n",
       "2      3.2\n",
       "3      3.1\n",
       "4      3.6\n",
       "5      3.9\n",
       "6      3.4\n",
       "7      3.4\n",
       "8      2.9\n",
       "9      3.1\n",
       "10     3.7\n",
       "11     3.4\n",
       "12     3.0\n",
       "13     3.0\n",
       "14     4.0\n",
       "15     4.4\n",
       "16     3.9\n",
       "17     3.5\n",
       "18     3.8\n",
       "19     3.8\n",
       "20     3.4\n",
       "21     3.7\n",
       "22     3.6\n",
       "23     3.3\n",
       "24     3.4\n",
       "25     3.0\n",
       "26     3.4\n",
       "27     3.5\n",
       "28     3.4\n",
       "29     3.2\n",
       "      ... \n",
       "120    3.2\n",
       "121    2.8\n",
       "122    2.8\n",
       "123    2.7\n",
       "124    3.3\n",
       "125    3.2\n",
       "126    2.8\n",
       "127    3.0\n",
       "128    2.8\n",
       "129    3.0\n",
       "130    2.8\n",
       "131    3.8\n",
       "132    2.8\n",
       "133    2.8\n",
       "134    2.6\n",
       "135    3.0\n",
       "136    3.4\n",
       "137    3.1\n",
       "138    3.0\n",
       "139    3.1\n",
       "140    3.1\n",
       "141    3.1\n",
       "142    2.7\n",
       "143    3.2\n",
       "144    3.3\n",
       "145    3.0\n",
       "146    2.5\n",
       "147    3.0\n",
       "148    3.4\n",
       "149    3.0\n",
       "Name: sepal width (cm), Length: 150, dtype: float64"
      ]
     },
     "execution_count": 31,
     "metadata": {},
     "output_type": "execute_result"
    }
   ],
   "source": [
    "Y = dataset[\"sepal width (cm)\"]\n",
    "Y"
   ]
  },
  {
   "cell_type": "code",
   "execution_count": 33,
   "metadata": {},
   "outputs": [
    {
     "data": {
      "text/plain": [
       "[(5.1, 3.5),\n",
       " (4.9, 3.0),\n",
       " (4.7, 3.2),\n",
       " (4.6, 3.1),\n",
       " (5.0, 3.6),\n",
       " (5.4, 3.9),\n",
       " (4.6, 3.4),\n",
       " (5.0, 3.4),\n",
       " (4.4, 2.9),\n",
       " (4.9, 3.1),\n",
       " (5.4, 3.7),\n",
       " (4.8, 3.4),\n",
       " (4.8, 3.0),\n",
       " (4.3, 3.0),\n",
       " (5.8, 4.0),\n",
       " (5.7, 4.4),\n",
       " (5.4, 3.9),\n",
       " (5.1, 3.5),\n",
       " (5.7, 3.8),\n",
       " (5.1, 3.8),\n",
       " (5.4, 3.4),\n",
       " (5.1, 3.7),\n",
       " (4.6, 3.6),\n",
       " (5.1, 3.3),\n",
       " (4.8, 3.4),\n",
       " (5.0, 3.0),\n",
       " (5.0, 3.4),\n",
       " (5.2, 3.5),\n",
       " (5.2, 3.4),\n",
       " (4.7, 3.2),\n",
       " (4.8, 3.1),\n",
       " (5.4, 3.4),\n",
       " (5.2, 4.1),\n",
       " (5.5, 4.2),\n",
       " (4.9, 3.1),\n",
       " (5.0, 3.2),\n",
       " (5.5, 3.5),\n",
       " (4.9, 3.1),\n",
       " (4.4, 3.0),\n",
       " (5.1, 3.4),\n",
       " (5.0, 3.5),\n",
       " (4.5, 2.3),\n",
       " (4.4, 3.2),\n",
       " (5.0, 3.5),\n",
       " (5.1, 3.8),\n",
       " (4.8, 3.0),\n",
       " (5.1, 3.8),\n",
       " (4.6, 3.2),\n",
       " (5.3, 3.7),\n",
       " (5.0, 3.3),\n",
       " (7.0, 3.2),\n",
       " (6.4, 3.2),\n",
       " (6.9, 3.1),\n",
       " (5.5, 2.3),\n",
       " (6.5, 2.8),\n",
       " (5.7, 2.8),\n",
       " (6.3, 3.3),\n",
       " (4.9, 2.4),\n",
       " (6.6, 2.9),\n",
       " (5.2, 2.7),\n",
       " (5.0, 2.0),\n",
       " (5.9, 3.0),\n",
       " (6.0, 2.2),\n",
       " (6.1, 2.9),\n",
       " (5.6, 2.9),\n",
       " (6.7, 3.1),\n",
       " (5.6, 3.0),\n",
       " (5.8, 2.7),\n",
       " (6.2, 2.2),\n",
       " (5.6, 2.5),\n",
       " (5.9, 3.2),\n",
       " (6.1, 2.8),\n",
       " (6.3, 2.5),\n",
       " (6.1, 2.8),\n",
       " (6.4, 2.9),\n",
       " (6.6, 3.0),\n",
       " (6.8, 2.8),\n",
       " (6.7, 3.0),\n",
       " (6.0, 2.9),\n",
       " (5.7, 2.6),\n",
       " (5.5, 2.4),\n",
       " (5.5, 2.4),\n",
       " (5.8, 2.7),\n",
       " (6.0, 2.7),\n",
       " (5.4, 3.0),\n",
       " (6.0, 3.4),\n",
       " (6.7, 3.1),\n",
       " (6.3, 2.3),\n",
       " (5.6, 3.0),\n",
       " (5.5, 2.5),\n",
       " (5.5, 2.6),\n",
       " (6.1, 3.0),\n",
       " (5.8, 2.6),\n",
       " (5.0, 2.3),\n",
       " (5.6, 2.7),\n",
       " (5.7, 3.0),\n",
       " (5.7, 2.9),\n",
       " (6.2, 2.9),\n",
       " (5.1, 2.5),\n",
       " (5.7, 2.8),\n",
       " (6.3, 3.3),\n",
       " (5.8, 2.7),\n",
       " (7.1, 3.0),\n",
       " (6.3, 2.9),\n",
       " (6.5, 3.0),\n",
       " (7.6, 3.0),\n",
       " (4.9, 2.5),\n",
       " (7.3, 2.9),\n",
       " (6.7, 2.5),\n",
       " (7.2, 3.6),\n",
       " (6.5, 3.2),\n",
       " (6.4, 2.7),\n",
       " (6.8, 3.0),\n",
       " (5.7, 2.5),\n",
       " (5.8, 2.8),\n",
       " (6.4, 3.2),\n",
       " (6.5, 3.0),\n",
       " (7.7, 3.8),\n",
       " (7.7, 2.6),\n",
       " (6.0, 2.2),\n",
       " (6.9, 3.2),\n",
       " (5.6, 2.8),\n",
       " (7.7, 2.8),\n",
       " (6.3, 2.7),\n",
       " (6.7, 3.3),\n",
       " (7.2, 3.2),\n",
       " (6.2, 2.8),\n",
       " (6.1, 3.0),\n",
       " (6.4, 2.8),\n",
       " (7.2, 3.0),\n",
       " (7.4, 2.8),\n",
       " (7.9, 3.8),\n",
       " (6.4, 2.8),\n",
       " (6.3, 2.8),\n",
       " (6.1, 2.6),\n",
       " (7.7, 3.0),\n",
       " (6.3, 3.4),\n",
       " (6.4, 3.1),\n",
       " (6.0, 3.0),\n",
       " (6.9, 3.1),\n",
       " (6.7, 3.1),\n",
       " (6.9, 3.1),\n",
       " (5.8, 2.7),\n",
       " (6.8, 3.2),\n",
       " (6.7, 3.3),\n",
       " (6.7, 3.0),\n",
       " (6.3, 2.5),\n",
       " (6.5, 3.0),\n",
       " (6.2, 3.4),\n",
       " (5.9, 3.0)]"
      ]
     },
     "execution_count": 33,
     "metadata": {},
     "output_type": "execute_result"
    }
   ],
   "source": [
    "dataset_new = list(zip(X,Y))\n",
    "dataset_new"
   ]
  },
  {
   "cell_type": "code",
   "execution_count": 38,
   "metadata": {},
   "outputs": [],
   "source": [
    "iris_model = KMeans(n_clusters = 4)\n"
   ]
  },
  {
   "cell_type": "code",
   "execution_count": 39,
   "metadata": {},
   "outputs": [
    {
     "data": {
      "text/plain": [
       "KMeans(algorithm='auto', copy_x=True, init='k-means++', max_iter=300,\n",
       "    n_clusters=4, n_init=10, n_jobs=None, precompute_distances='auto',\n",
       "    random_state=None, tol=0.0001, verbose=0)"
      ]
     },
     "execution_count": 39,
     "metadata": {},
     "output_type": "execute_result"
    }
   ],
   "source": [
    "iris_model.fit(dataset_new)"
   ]
  },
  {
   "cell_type": "code",
   "execution_count": 40,
   "metadata": {},
   "outputs": [
    {
     "data": {
      "image/png": "[encoded data removed]",
      "text/plain": [
       "<Figure size 1152x648 with 1 Axes>"
      ]
     },
     "metadata": {
      "needs_background": "light"
     },
     "output_type": "display_data"
    }
   ],
   "source": [
    "plt.figure(figsize=(16,9))\n",
    "plt.scatter(X,Y, c= iris_model.labels_, marker= \"*\", s = 300)\n",
    "plt.xlabel(\"Iris Sepal Length\", fontsize = 12)\n",
    "plt.ylabel(\"Iris Sepal Width\", fontsize = 12)\n",
    "plt.title(\"K Means cluster\", fontsize = 16)\n",
    "\n",
    "plt.show()"
   ]
  },
  {
   "cell_type": "code",
   "execution_count": null,
   "metadata": {},
   "outputs": [],
   "source": []
  }
 ],
 "metadata": {
  "kernelspec": {
   "display_name": "Python 3",
   "language": "python",
   "name": "python3"
  },
  "language_info": {
   "codemirror_mode": {
    "name": "ipython",
    "version": 3
   },
   "file_extension": ".py",
   "mimetype": "text/x-python",
   "name": "python",
   "nbconvert_exporter": "python",
   "pygments_lexer": "ipython3",
   "version": "3.7.3"
  }
 },
 "nbformat": 4,
 "nbformat_minor": 2
}
